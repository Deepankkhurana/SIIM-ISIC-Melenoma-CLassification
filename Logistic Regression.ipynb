{
 "cells": [
  {
   "cell_type": "markdown",
   "metadata": {},
   "source": [
    "## SIIM ISIC MELANOMA DETECTION - Analysis using Logistic Regression"
   ]
  },
  {
   "cell_type": "markdown",
   "metadata": {},
   "source": [
    "### I have used Logistic regression because our dataset can be classified in the form of Dichotonous variable i.e. 0 for benign and 1 for malignant images in context of this Dataset. \n",
    "\n",
    "### If you have any doubts or need explaination, you can reach me at khurana.d@northeastern.edu"
   ]
  },
  {
   "cell_type": "markdown",
   "metadata": {},
   "source": [
    "---------------------------------------------------------------------------------------------------------------------"
   ]
  },
  {
   "cell_type": "code",
   "execution_count": 2,
   "metadata": {},
   "outputs": [],
   "source": [
    "import numpy as np\n",
    "import pandas as pd \n",
    "import gc\n",
    "import json\n",
    "import math\n",
    "import cv2\n",
    "import PIL\n",
    "from PIL import Image\n",
    "\n",
    "import matplotlib.pyplot as plt\n",
    "import seaborn as sns\n",
    "from sklearn.model_selection import KFold\n",
    "from sklearn.metrics import roc_auc_score\n",
    "from sklearn.linear_model import LogisticRegression, Ridge\n",
    "from sklearn.preprocessing import OneHotEncoder\n",
    "from tqdm import tqdm\n",
    "from sklearn.decomposition import PCA\n",
    "import os\n",
    "import imagesize\n",
    "\n",
    "%matplotlib inline"
   ]
  },
  {
   "cell_type": "code",
   "execution_count": 3,
   "metadata": {},
   "outputs": [
    {
     "name": "stdout",
     "output_type": "stream",
     "text": [
      "['x_test_96.npy', 'x_train_32.npy', '.DS_Store', 'test', 'x_train_128.npy', 'test.csv', 'x_train_96.npy', 'x_test_32.npy', 'x_test_128.npy', 'datasets_680899_1200702_x_train_64.npy', 'train', 'train.csv', 'jpeg', 'x_test_224.npy', 'x_test_64.npy', 'tfrecords', 'x_train_224.npy', 'sample_submission.csv']\n"
     ]
    }
   ],
   "source": [
    "import os\n",
    "print(os.listdir(\"../Adv_Data_Science_Final_Project/siim-isic-melanoma-classification\"))"
   ]
  },
  {
   "cell_type": "code",
   "execution_count": 4,
   "metadata": {},
   "outputs": [
    {
     "name": "stdout",
     "output_type": "stream",
     "text": [
      "33126 images in train set.\n",
      "10982 images in test set.\n"
     ]
    }
   ],
   "source": [
    "#Loading Train and Test Data\n",
    "train = pd.read_csv(\"../Adv_Data_Science_Final_Project/siim-isic-melanoma-classification/train.csv\")\n",
    "test = pd.read_csv(\"../Adv_Data_Science_Final_Project/siim-isic-melanoma-classification/test.csv\")\n",
    "print(\"{} images in train set.\".format(train.shape[0]))\n",
    "print(\"{} images in test set.\".format(test.shape[0]))"
   ]
  },
  {
   "cell_type": "code",
   "execution_count": 5,
   "metadata": {},
   "outputs": [
    {
     "data": {
      "text/html": [
       "<div>\n",
       "<style scoped>\n",
       "    .dataframe tbody tr th:only-of-type {\n",
       "        vertical-align: middle;\n",
       "    }\n",
       "\n",
       "    .dataframe tbody tr th {\n",
       "        vertical-align: top;\n",
       "    }\n",
       "\n",
       "    .dataframe thead th {\n",
       "        text-align: right;\n",
       "    }\n",
       "</style>\n",
       "<table border=\"1\" class=\"dataframe\">\n",
       "  <thead>\n",
       "    <tr style=\"text-align: right;\">\n",
       "      <th></th>\n",
       "      <th>image_name</th>\n",
       "      <th>patient_id</th>\n",
       "      <th>sex</th>\n",
       "      <th>age_approx</th>\n",
       "      <th>anatom_site_general_challenge</th>\n",
       "      <th>diagnosis</th>\n",
       "      <th>benign_malignant</th>\n",
       "      <th>target</th>\n",
       "    </tr>\n",
       "  </thead>\n",
       "  <tbody>\n",
       "    <tr>\n",
       "      <td>0</td>\n",
       "      <td>ISIC_2637011</td>\n",
       "      <td>IP_7279968</td>\n",
       "      <td>male</td>\n",
       "      <td>45.0</td>\n",
       "      <td>head/neck</td>\n",
       "      <td>unknown</td>\n",
       "      <td>benign</td>\n",
       "      <td>0</td>\n",
       "    </tr>\n",
       "    <tr>\n",
       "      <td>1</td>\n",
       "      <td>ISIC_0015719</td>\n",
       "      <td>IP_3075186</td>\n",
       "      <td>female</td>\n",
       "      <td>45.0</td>\n",
       "      <td>upper extremity</td>\n",
       "      <td>unknown</td>\n",
       "      <td>benign</td>\n",
       "      <td>0</td>\n",
       "    </tr>\n",
       "    <tr>\n",
       "      <td>2</td>\n",
       "      <td>ISIC_0052212</td>\n",
       "      <td>IP_2842074</td>\n",
       "      <td>female</td>\n",
       "      <td>50.0</td>\n",
       "      <td>lower extremity</td>\n",
       "      <td>nevus</td>\n",
       "      <td>benign</td>\n",
       "      <td>0</td>\n",
       "    </tr>\n",
       "    <tr>\n",
       "      <td>3</td>\n",
       "      <td>ISIC_0068279</td>\n",
       "      <td>IP_6890425</td>\n",
       "      <td>female</td>\n",
       "      <td>45.0</td>\n",
       "      <td>head/neck</td>\n",
       "      <td>unknown</td>\n",
       "      <td>benign</td>\n",
       "      <td>0</td>\n",
       "    </tr>\n",
       "    <tr>\n",
       "      <td>4</td>\n",
       "      <td>ISIC_0074268</td>\n",
       "      <td>IP_8723313</td>\n",
       "      <td>female</td>\n",
       "      <td>55.0</td>\n",
       "      <td>upper extremity</td>\n",
       "      <td>unknown</td>\n",
       "      <td>benign</td>\n",
       "      <td>0</td>\n",
       "    </tr>\n",
       "  </tbody>\n",
       "</table>\n",
       "</div>"
      ],
      "text/plain": [
       "     image_name  patient_id     sex  age_approx anatom_site_general_challenge  \\\n",
       "0  ISIC_2637011  IP_7279968    male        45.0                     head/neck   \n",
       "1  ISIC_0015719  IP_3075186  female        45.0               upper extremity   \n",
       "2  ISIC_0052212  IP_2842074  female        50.0               lower extremity   \n",
       "3  ISIC_0068279  IP_6890425  female        45.0                     head/neck   \n",
       "4  ISIC_0074268  IP_8723313  female        55.0               upper extremity   \n",
       "\n",
       "  diagnosis benign_malignant  target  \n",
       "0   unknown           benign       0  \n",
       "1   unknown           benign       0  \n",
       "2     nevus           benign       0  \n",
       "3   unknown           benign       0  \n",
       "4   unknown           benign       0  "
      ]
     },
     "execution_count": 5,
     "metadata": {},
     "output_type": "execute_result"
    }
   ],
   "source": [
    "train.head()"
   ]
  },
  {
   "cell_type": "code",
   "execution_count": 6,
   "metadata": {},
   "outputs": [
    {
     "data": {
      "text/html": [
       "<div>\n",
       "<style scoped>\n",
       "    .dataframe tbody tr th:only-of-type {\n",
       "        vertical-align: middle;\n",
       "    }\n",
       "\n",
       "    .dataframe tbody tr th {\n",
       "        vertical-align: top;\n",
       "    }\n",
       "\n",
       "    .dataframe thead th {\n",
       "        text-align: right;\n",
       "    }\n",
       "</style>\n",
       "<table border=\"1\" class=\"dataframe\">\n",
       "  <thead>\n",
       "    <tr style=\"text-align: right;\">\n",
       "      <th></th>\n",
       "      <th>image_name</th>\n",
       "      <th>patient_id</th>\n",
       "      <th>sex</th>\n",
       "      <th>age_approx</th>\n",
       "      <th>anatom_site_general_challenge</th>\n",
       "    </tr>\n",
       "  </thead>\n",
       "  <tbody>\n",
       "    <tr>\n",
       "      <td>0</td>\n",
       "      <td>ISIC_0052060</td>\n",
       "      <td>IP_3579794</td>\n",
       "      <td>male</td>\n",
       "      <td>70.0</td>\n",
       "      <td>NaN</td>\n",
       "    </tr>\n",
       "    <tr>\n",
       "      <td>1</td>\n",
       "      <td>ISIC_0052349</td>\n",
       "      <td>IP_7782715</td>\n",
       "      <td>male</td>\n",
       "      <td>40.0</td>\n",
       "      <td>lower extremity</td>\n",
       "    </tr>\n",
       "    <tr>\n",
       "      <td>2</td>\n",
       "      <td>ISIC_0058510</td>\n",
       "      <td>IP_7960270</td>\n",
       "      <td>female</td>\n",
       "      <td>55.0</td>\n",
       "      <td>torso</td>\n",
       "    </tr>\n",
       "    <tr>\n",
       "      <td>3</td>\n",
       "      <td>ISIC_0073313</td>\n",
       "      <td>IP_6375035</td>\n",
       "      <td>female</td>\n",
       "      <td>50.0</td>\n",
       "      <td>torso</td>\n",
       "    </tr>\n",
       "    <tr>\n",
       "      <td>4</td>\n",
       "      <td>ISIC_0073502</td>\n",
       "      <td>IP_0589375</td>\n",
       "      <td>female</td>\n",
       "      <td>45.0</td>\n",
       "      <td>lower extremity</td>\n",
       "    </tr>\n",
       "  </tbody>\n",
       "</table>\n",
       "</div>"
      ],
      "text/plain": [
       "     image_name  patient_id     sex  age_approx anatom_site_general_challenge\n",
       "0  ISIC_0052060  IP_3579794    male        70.0                           NaN\n",
       "1  ISIC_0052349  IP_7782715    male        40.0               lower extremity\n",
       "2  ISIC_0058510  IP_7960270  female        55.0                         torso\n",
       "3  ISIC_0073313  IP_6375035  female        50.0                         torso\n",
       "4  ISIC_0073502  IP_0589375  female        45.0               lower extremity"
      ]
     },
     "execution_count": 6,
     "metadata": {},
     "output_type": "execute_result"
    }
   ],
   "source": [
    "test.head()"
   ]
  },
  {
   "cell_type": "code",
   "execution_count": 7,
   "metadata": {},
   "outputs": [
    {
     "data": {
      "text/plain": [
       "image_name                         0\n",
       "patient_id                         0\n",
       "sex                               65\n",
       "age_approx                        68\n",
       "anatom_site_general_challenge    527\n",
       "diagnosis                          0\n",
       "benign_malignant                   0\n",
       "target                             0\n",
       "dtype: int64"
      ]
     },
     "execution_count": 7,
     "metadata": {},
     "output_type": "execute_result"
    }
   ],
   "source": [
    "train.isna().sum()"
   ]
  },
  {
   "cell_type": "code",
   "execution_count": 8,
   "metadata": {},
   "outputs": [],
   "source": [
    "# Drop missing values\n",
    "train = train.dropna()"
   ]
  },
  {
   "cell_type": "code",
   "execution_count": 9,
   "metadata": {},
   "outputs": [
    {
     "data": {
      "text/plain": [
       "<matplotlib.axes._subplots.AxesSubplot at 0x7fe428248f90>"
      ]
     },
     "execution_count": 9,
     "metadata": {},
     "output_type": "execute_result"
    },
    {
     "data": {
      "image/png": "[encoded data removed]",
      "text/plain": [
       "<Figure size 432x288 with 1 Axes>"
      ]
     },
     "metadata": {
      "needs_background": "light"
     },
     "output_type": "display_data"
    }
   ],
   "source": [
    "train['age_approx'].value_counts().plot(kind='bar')"
   ]
  },
  {
   "cell_type": "code",
   "execution_count": 10,
   "metadata": {},
   "outputs": [
    {
     "data": {
      "text/plain": [
       "<matplotlib.axes._subplots.AxesSubplot at 0x7fe428189190>"
      ]
     },
     "execution_count": 10,
     "metadata": {},
     "output_type": "execute_result"
    },
    {
     "data": {
      "image/png": "[encoded data removed]",
      "text/plain": [
       "<Figure size 432x288 with 1 Axes>"
      ]
     },
     "metadata": {
      "needs_background": "light"
     },
     "output_type": "display_data"
    }
   ],
   "source": [
    "test['age_approx'].value_counts().plot(kind='bar')"
   ]
  },
  {
   "cell_type": "code",
   "execution_count": 11,
   "metadata": {},
   "outputs": [
    {
     "data": {
      "text/plain": [
       "<matplotlib.axes._subplots.AxesSubplot at 0x7fe42952b510>"
      ]
     },
     "execution_count": 11,
     "metadata": {},
     "output_type": "execute_result"
    },
    {
     "data": {
      "image/png": "[encoded data removed]",
      "text/plain": [
       "<Figure size 432x288 with 1 Axes>"
      ]
     },
     "metadata": {
      "needs_background": "light"
     },
     "output_type": "display_data"
    }
   ],
   "source": [
    "train['sex'].value_counts().plot(kind='bar')"
   ]
  },
  {
   "cell_type": "code",
   "execution_count": 12,
   "metadata": {},
   "outputs": [
    {
     "data": {
      "text/plain": [
       "<matplotlib.axes._subplots.AxesSubplot at 0x7fe4293e2810>"
      ]
     },
     "execution_count": 12,
     "metadata": {},
     "output_type": "execute_result"
    },
    {
     "data": {
      "image/png": "[encoded data removed]",
      "text/plain": [
       "<Figure size 432x288 with 1 Axes>"
      ]
     },
     "metadata": {
      "needs_background": "light"
     },
     "output_type": "display_data"
    }
   ],
   "source": [
    "test['sex'].value_counts().plot(kind='bar')"
   ]
  },
  {
   "cell_type": "code",
   "execution_count": 13,
   "metadata": {},
   "outputs": [
    {
     "data": {
      "text/plain": [
       "<matplotlib.axes._subplots.AxesSubplot at 0x7fe4296351d0>"
      ]
     },
     "execution_count": 13,
     "metadata": {},
     "output_type": "execute_result"
    },
    {
     "data": {
      "image/png": "[encoded data removed]",
      "text/plain": [
       "<Figure size 432x288 with 1 Axes>"
      ]
     },
     "metadata": {
      "needs_background": "light"
     },
     "output_type": "display_data"
    }
   ],
   "source": [
    "train['diagnosis'].value_counts().plot(kind='bar')"
   ]
  },
  {
   "cell_type": "code",
   "execution_count": 14,
   "metadata": {},
   "outputs": [
    {
     "data": {
      "text/plain": [
       "0.017675448034182778"
      ]
     },
     "execution_count": 14,
     "metadata": {},
     "output_type": "execute_result"
    }
   ],
   "source": [
    "np.mean(train.target)"
   ]
  },
  {
   "cell_type": "markdown",
   "metadata": {},
   "source": [
    "### The data is Highly Imbalanced"
   ]
  },
  {
   "cell_type": "markdown",
   "metadata": {},
   "source": [
    "## Let's now look at the distributions of various \"features\""
   ]
  },
  {
   "cell_type": "code",
   "execution_count": 15,
   "metadata": {},
   "outputs": [
    {
     "data": {
      "image/png": "[encoded data removed]",
      "text/plain": [
       "<Figure size 864x360 with 1 Axes>"
      ]
     },
     "metadata": {
      "needs_background": "light"
     },
     "output_type": "display_data"
    }
   ],
   "source": [
    "plt.figure(figsize=(12, 5))\n",
    "plt.hist(train['age_approx'].values, bins=200)\n",
    "plt.title('Histogram age_approx counts in train')\n",
    "plt.xlabel('Value')\n",
    "plt.ylabel('Count')\n",
    "plt.show()"
   ]
  },
  {
   "cell_type": "code",
   "execution_count": 16,
   "metadata": {},
   "outputs": [
    {
     "data": {
      "image/png": "[encoded data removed]",
      "text/plain": [
       "<Figure size 864x360 with 1 Axes>"
      ]
     },
     "metadata": {
      "needs_background": "light"
     },
     "output_type": "display_data"
    }
   ],
   "source": [
    "plt.figure(figsize=(12, 5))\n",
    "plt.hist(test['age_approx'].values, bins=200)\n",
    "plt.title('Histogram age_approx counts in test')\n",
    "plt.xlabel('Value')\n",
    "plt.ylabel('Count')\n",
    "plt.show()"
   ]
  },
  {
   "cell_type": "markdown",
   "metadata": {},
   "source": [
    "EDA"
   ]
  },
  {
   "cell_type": "code",
   "execution_count": 17,
   "metadata": {},
   "outputs": [
    {
     "data": {
      "text/plain": [
       "benign       0.982325\n",
       "malignant    0.017675\n",
       "Name: benign_malignant, dtype: float64"
      ]
     },
     "execution_count": 17,
     "metadata": {},
     "output_type": "execute_result"
    }
   ],
   "source": [
    "# Display proportion of benign and malignant melanomas\n",
    "train.benign_malignant.value_counts(normalize = True)"
   ]
  },
  {
   "cell_type": "code",
   "execution_count": 18,
   "metadata": {},
   "outputs": [
    {
     "data": {
      "text/html": [
       "<div>\n",
       "<style scoped>\n",
       "    .dataframe tbody tr th:only-of-type {\n",
       "        vertical-align: middle;\n",
       "    }\n",
       "\n",
       "    .dataframe tbody tr th {\n",
       "        vertical-align: top;\n",
       "    }\n",
       "\n",
       "    .dataframe thead th {\n",
       "        text-align: right;\n",
       "    }\n",
       "</style>\n",
       "<table border=\"1\" class=\"dataframe\">\n",
       "  <thead>\n",
       "    <tr style=\"text-align: right;\">\n",
       "      <th></th>\n",
       "      <th>age_approx</th>\n",
       "      <th>target</th>\n",
       "    </tr>\n",
       "    <tr>\n",
       "      <th>anatom_site_general_challenge</th>\n",
       "      <th></th>\n",
       "      <th></th>\n",
       "    </tr>\n",
       "  </thead>\n",
       "  <tbody>\n",
       "    <tr>\n",
       "      <td>palms/soles</td>\n",
       "      <td>44.346667</td>\n",
       "      <td>0.013333</td>\n",
       "    </tr>\n",
       "    <tr>\n",
       "      <td>lower extremity</td>\n",
       "      <td>49.074890</td>\n",
       "      <td>0.014764</td>\n",
       "    </tr>\n",
       "    <tr>\n",
       "      <td>torso</td>\n",
       "      <td>48.723031</td>\n",
       "      <td>0.015275</td>\n",
       "    </tr>\n",
       "    <tr>\n",
       "      <td>upper extremity</td>\n",
       "      <td>48.516019</td>\n",
       "      <td>0.022366</td>\n",
       "    </tr>\n",
       "    <tr>\n",
       "      <td>oral/genital</td>\n",
       "      <td>44.354839</td>\n",
       "      <td>0.032258</td>\n",
       "    </tr>\n",
       "    <tr>\n",
       "      <td>head/neck</td>\n",
       "      <td>52.295393</td>\n",
       "      <td>0.040108</td>\n",
       "    </tr>\n",
       "  </tbody>\n",
       "</table>\n",
       "</div>"
      ],
      "text/plain": [
       "                               age_approx    target\n",
       "anatom_site_general_challenge                      \n",
       "palms/soles                     44.346667  0.013333\n",
       "lower extremity                 49.074890  0.014764\n",
       "torso                           48.723031  0.015275\n",
       "upper extremity                 48.516019  0.022366\n",
       "oral/genital                    44.354839  0.032258\n",
       "head/neck                       52.295393  0.040108"
      ]
     },
     "execution_count": 18,
     "metadata": {},
     "output_type": "execute_result"
    }
   ],
   "source": [
    "# Checking in which body part Cancer is more common ?\n",
    "grp = train.groupby(['anatom_site_general_challenge']).mean().sort_values(by = 'target')\n",
    "grp"
   ]
  },
  {
   "cell_type": "code",
   "execution_count": 19,
   "metadata": {},
   "outputs": [],
   "source": [
    "%matplotlib inline"
   ]
  },
  {
   "cell_type": "code",
   "execution_count": 20,
   "metadata": {},
   "outputs": [
    {
     "data": {
      "image/png": "[encoded data removed]",
      "text/plain": [
       "<Figure size 432x288 with 1 Axes>"
      ]
     },
     "metadata": {},
     "output_type": "display_data"
    }
   ],
   "source": [
    "import seaborn as sns\n",
    "sns.set(style=\"darkgrid\")\n",
    "# titanic = sns.load_dataset(\"titanic\")\n",
    "ax = sns.barplot(x=\"target\", y=grp.index, data=grp)\n",
    "# plt.bar( grp.index , grp['target'])"
   ]
  },
  {
   "cell_type": "code",
   "execution_count": 22,
   "metadata": {},
   "outputs": [
    {
     "data": {
      "text/html": [
       "<style  type=\"text/css\" >\n",
       "    #T_0ed1733c_da63_11ea_b6d9_aae9fe7d730crow0_col2 {\n",
       "            background-color:  #fee3d6;\n",
       "            color:  #000000;\n",
       "        }    #T_0ed1733c_da63_11ea_b6d9_aae9fe7d730crow0_col3 {\n",
       "            background-color:  #fee7dc;\n",
       "            color:  #000000;\n",
       "        }    #T_0ed1733c_da63_11ea_b6d9_aae9fe7d730crow0_col4 {\n",
       "            background-color:  #fcae92;\n",
       "            color:  #000000;\n",
       "        }    #T_0ed1733c_da63_11ea_b6d9_aae9fe7d730crow1_col2 {\n",
       "            background-color:  #fca082;\n",
       "            color:  #000000;\n",
       "        }    #T_0ed1733c_da63_11ea_b6d9_aae9fe7d730crow1_col3 {\n",
       "            background-color:  #fb7151;\n",
       "            color:  #000000;\n",
       "        }    #T_0ed1733c_da63_11ea_b6d9_aae9fe7d730crow1_col4 {\n",
       "            background-color:  #fee3d7;\n",
       "            color:  #000000;\n",
       "        }    #T_0ed1733c_da63_11ea_b6d9_aae9fe7d730crow2_col2 {\n",
       "            background-color:  #fff4ee;\n",
       "            color:  #000000;\n",
       "        }    #T_0ed1733c_da63_11ea_b6d9_aae9fe7d730crow2_col3 {\n",
       "            background-color:  #fff5f0;\n",
       "            color:  #000000;\n",
       "        }    #T_0ed1733c_da63_11ea_b6d9_aae9fe7d730crow2_col4 {\n",
       "            background-color:  #67000d;\n",
       "            color:  #f1f1f1;\n",
       "        }    #T_0ed1733c_da63_11ea_b6d9_aae9fe7d730crow3_col2 {\n",
       "            background-color:  #fff5f0;\n",
       "            color:  #000000;\n",
       "        }    #T_0ed1733c_da63_11ea_b6d9_aae9fe7d730crow3_col3 {\n",
       "            background-color:  #fff4ee;\n",
       "            color:  #000000;\n",
       "        }    #T_0ed1733c_da63_11ea_b6d9_aae9fe7d730crow3_col4 {\n",
       "            background-color:  #fff5f0;\n",
       "            color:  #000000;\n",
       "        }    #T_0ed1733c_da63_11ea_b6d9_aae9fe7d730crow4_col2 {\n",
       "            background-color:  #fb6d4d;\n",
       "            color:  #000000;\n",
       "        }    #T_0ed1733c_da63_11ea_b6d9_aae9fe7d730crow4_col3 {\n",
       "            background-color:  #b61319;\n",
       "            color:  #f1f1f1;\n",
       "        }    #T_0ed1733c_da63_11ea_b6d9_aae9fe7d730crow4_col4 {\n",
       "            background-color:  #fee8de;\n",
       "            color:  #000000;\n",
       "        }    #T_0ed1733c_da63_11ea_b6d9_aae9fe7d730crow5_col2 {\n",
       "            background-color:  #fcaf93;\n",
       "            color:  #000000;\n",
       "        }    #T_0ed1733c_da63_11ea_b6d9_aae9fe7d730crow5_col3 {\n",
       "            background-color:  #fcaf93;\n",
       "            color:  #000000;\n",
       "        }    #T_0ed1733c_da63_11ea_b6d9_aae9fe7d730crow5_col4 {\n",
       "            background-color:  #fdcab5;\n",
       "            color:  #000000;\n",
       "        }    #T_0ed1733c_da63_11ea_b6d9_aae9fe7d730crow6_col2 {\n",
       "            background-color:  #fca78b;\n",
       "            color:  #000000;\n",
       "        }    #T_0ed1733c_da63_11ea_b6d9_aae9fe7d730crow6_col3 {\n",
       "            background-color:  #fee4d8;\n",
       "            color:  #000000;\n",
       "        }    #T_0ed1733c_da63_11ea_b6d9_aae9fe7d730crow6_col4 {\n",
       "            background-color:  #c2161b;\n",
       "            color:  #f1f1f1;\n",
       "        }    #T_0ed1733c_da63_11ea_b6d9_aae9fe7d730crow7_col2 {\n",
       "            background-color:  #fc9070;\n",
       "            color:  #000000;\n",
       "        }    #T_0ed1733c_da63_11ea_b6d9_aae9fe7d730crow7_col3 {\n",
       "            background-color:  #fc8262;\n",
       "            color:  #000000;\n",
       "        }    #T_0ed1733c_da63_11ea_b6d9_aae9fe7d730crow7_col4 {\n",
       "            background-color:  #fdd3c1;\n",
       "            color:  #000000;\n",
       "        }    #T_0ed1733c_da63_11ea_b6d9_aae9fe7d730crow8_col2 {\n",
       "            background-color:  #fff5f0;\n",
       "            color:  #000000;\n",
       "        }    #T_0ed1733c_da63_11ea_b6d9_aae9fe7d730crow8_col3 {\n",
       "            background-color:  #fff5f0;\n",
       "            color:  #000000;\n",
       "        }    #T_0ed1733c_da63_11ea_b6d9_aae9fe7d730crow8_col4 {\n",
       "            background-color:  #fee5d8;\n",
       "            color:  #000000;\n",
       "        }    #T_0ed1733c_da63_11ea_b6d9_aae9fe7d730crow9_col2 {\n",
       "            background-color:  #fff2ec;\n",
       "            color:  #000000;\n",
       "        }    #T_0ed1733c_da63_11ea_b6d9_aae9fe7d730crow9_col3 {\n",
       "            background-color:  #fff2ec;\n",
       "            color:  #000000;\n",
       "        }    #T_0ed1733c_da63_11ea_b6d9_aae9fe7d730crow9_col4 {\n",
       "            background-color:  #fdcebb;\n",
       "            color:  #000000;\n",
       "        }    #T_0ed1733c_da63_11ea_b6d9_aae9fe7d730crow10_col2 {\n",
       "            background-color:  #67000d;\n",
       "            color:  #f1f1f1;\n",
       "        }    #T_0ed1733c_da63_11ea_b6d9_aae9fe7d730crow10_col3 {\n",
       "            background-color:  #67000d;\n",
       "            color:  #f1f1f1;\n",
       "        }    #T_0ed1733c_da63_11ea_b6d9_aae9fe7d730crow10_col4 {\n",
       "            background-color:  #fdcab5;\n",
       "            color:  #000000;\n",
       "        }    #T_0ed1733c_da63_11ea_b6d9_aae9fe7d730crow11_col2 {\n",
       "            background-color:  #fc9b7c;\n",
       "            color:  #000000;\n",
       "        }    #T_0ed1733c_da63_11ea_b6d9_aae9fe7d730crow11_col3 {\n",
       "            background-color:  #fcbda4;\n",
       "            color:  #000000;\n",
       "        }    #T_0ed1733c_da63_11ea_b6d9_aae9fe7d730crow11_col4 {\n",
       "            background-color:  #fc9e80;\n",
       "            color:  #000000;\n",
       "        }</style><table id=\"T_0ed1733c_da63_11ea_b6d9_aae9fe7d730c\" ><thead>    <tr>        <th class=\"blank level0\" ></th>        <th class=\"col_heading level0 col0\" >sex</th>        <th class=\"col_heading level0 col1\" >anatom_site_general_challenge</th>        <th class=\"col_heading level0 col2\" >sum</th>        <th class=\"col_heading level0 col3\" >count</th>        <th class=\"col_heading level0 col4\" >mean</th>    </tr></thead><tbody>\n",
       "                <tr>\n",
       "                        <th id=\"T_0ed1733c_da63_11ea_b6d9_aae9fe7d730clevel0_row0\" class=\"row_heading level0 row0\" >0</th>\n",
       "                        <td id=\"T_0ed1733c_da63_11ea_b6d9_aae9fe7d730crow0_col0\" class=\"data row0 col0\" >female</td>\n",
       "                        <td id=\"T_0ed1733c_da63_11ea_b6d9_aae9fe7d730crow0_col1\" class=\"data row0 col1\" >head/neck</td>\n",
       "                        <td id=\"T_0ed1733c_da63_11ea_b6d9_aae9fe7d730crow0_col2\" class=\"data row0 col2\" >20</td>\n",
       "                        <td id=\"T_0ed1733c_da63_11ea_b6d9_aae9fe7d730crow0_col3\" class=\"data row0 col3\" >832</td>\n",
       "                        <td id=\"T_0ed1733c_da63_11ea_b6d9_aae9fe7d730crow0_col4\" class=\"data row0 col4\" >0.0240385</td>\n",
       "            </tr>\n",
       "            <tr>\n",
       "                        <th id=\"T_0ed1733c_da63_11ea_b6d9_aae9fe7d730clevel0_row1\" class=\"row_heading level0 row1\" >1</th>\n",
       "                        <td id=\"T_0ed1733c_da63_11ea_b6d9_aae9fe7d730crow1_col0\" class=\"data row1 col0\" >female</td>\n",
       "                        <td id=\"T_0ed1733c_da63_11ea_b6d9_aae9fe7d730crow1_col1\" class=\"data row1 col1\" >lower extremity</td>\n",
       "                        <td id=\"T_0ed1733c_da63_11ea_b6d9_aae9fe7d730crow1_col2\" class=\"data row1 col2\" >58</td>\n",
       "                        <td id=\"T_0ed1733c_da63_11ea_b6d9_aae9fe7d730crow1_col3\" class=\"data row1 col3\" >4449</td>\n",
       "                        <td id=\"T_0ed1733c_da63_11ea_b6d9_aae9fe7d730crow1_col4\" class=\"data row1 col4\" >0.0130366</td>\n",
       "            </tr>\n",
       "            <tr>\n",
       "                        <th id=\"T_0ed1733c_da63_11ea_b6d9_aae9fe7d730clevel0_row2\" class=\"row_heading level0 row2\" >2</th>\n",
       "                        <td id=\"T_0ed1733c_da63_11ea_b6d9_aae9fe7d730crow2_col0\" class=\"data row2 col0\" >female</td>\n",
       "                        <td id=\"T_0ed1733c_da63_11ea_b6d9_aae9fe7d730crow2_col1\" class=\"data row2 col1\" >oral/genital</td>\n",
       "                        <td id=\"T_0ed1733c_da63_11ea_b6d9_aae9fe7d730crow2_col2\" class=\"data row2 col2\" >3</td>\n",
       "                        <td id=\"T_0ed1733c_da63_11ea_b6d9_aae9fe7d730crow2_col3\" class=\"data row2 col3\" >45</td>\n",
       "                        <td id=\"T_0ed1733c_da63_11ea_b6d9_aae9fe7d730crow2_col4\" class=\"data row2 col4\" >0.0666667</td>\n",
       "            </tr>\n",
       "            <tr>\n",
       "                        <th id=\"T_0ed1733c_da63_11ea_b6d9_aae9fe7d730clevel0_row3\" class=\"row_heading level0 row3\" >3</th>\n",
       "                        <td id=\"T_0ed1733c_da63_11ea_b6d9_aae9fe7d730crow3_col0\" class=\"data row3 col0\" >female</td>\n",
       "                        <td id=\"T_0ed1733c_da63_11ea_b6d9_aae9fe7d730crow3_col1\" class=\"data row3 col1\" >palms/soles</td>\n",
       "                        <td id=\"T_0ed1733c_da63_11ea_b6d9_aae9fe7d730crow3_col2\" class=\"data row3 col2\" >1</td>\n",
       "                        <td id=\"T_0ed1733c_da63_11ea_b6d9_aae9fe7d730crow3_col3\" class=\"data row3 col3\" >151</td>\n",
       "                        <td id=\"T_0ed1733c_da63_11ea_b6d9_aae9fe7d730crow3_col4\" class=\"data row3 col4\" >0.00662252</td>\n",
       "            </tr>\n",
       "            <tr>\n",
       "                        <th id=\"T_0ed1733c_da63_11ea_b6d9_aae9fe7d730clevel0_row4\" class=\"row_heading level0 row4\" >4</th>\n",
       "                        <td id=\"T_0ed1733c_da63_11ea_b6d9_aae9fe7d730crow4_col0\" class=\"data row4 col0\" >female</td>\n",
       "                        <td id=\"T_0ed1733c_da63_11ea_b6d9_aae9fe7d730crow4_col1\" class=\"data row4 col1\" >torso</td>\n",
       "                        <td id=\"T_0ed1733c_da63_11ea_b6d9_aae9fe7d730crow4_col2\" class=\"data row4 col2\" >85</td>\n",
       "                        <td id=\"T_0ed1733c_da63_11ea_b6d9_aae9fe7d730crow4_col3\" class=\"data row4 col3\" >7579</td>\n",
       "                        <td id=\"T_0ed1733c_da63_11ea_b6d9_aae9fe7d730crow4_col4\" class=\"data row4 col4\" >0.0112152</td>\n",
       "            </tr>\n",
       "            <tr>\n",
       "                        <th id=\"T_0ed1733c_da63_11ea_b6d9_aae9fe7d730clevel0_row5\" class=\"row_heading level0 row5\" >5</th>\n",
       "                        <td id=\"T_0ed1733c_da63_11ea_b6d9_aae9fe7d730crow5_col0\" class=\"data row5 col0\" >female</td>\n",
       "                        <td id=\"T_0ed1733c_da63_11ea_b6d9_aae9fe7d730crow5_col1\" class=\"data row5 col1\" >upper extremity</td>\n",
       "                        <td id=\"T_0ed1733c_da63_11ea_b6d9_aae9fe7d730crow5_col2\" class=\"data row5 col2\" >50</td>\n",
       "                        <td id=\"T_0ed1733c_da63_11ea_b6d9_aae9fe7d730crow5_col3\" class=\"data row5 col3\" >2687</td>\n",
       "                        <td id=\"T_0ed1733c_da63_11ea_b6d9_aae9fe7d730crow5_col4\" class=\"data row5 col4\" >0.0186081</td>\n",
       "            </tr>\n",
       "            <tr>\n",
       "                        <th id=\"T_0ed1733c_da63_11ea_b6d9_aae9fe7d730clevel0_row6\" class=\"row_heading level0 row6\" >6</th>\n",
       "                        <td id=\"T_0ed1733c_da63_11ea_b6d9_aae9fe7d730crow6_col0\" class=\"data row6 col0\" >male</td>\n",
       "                        <td id=\"T_0ed1733c_da63_11ea_b6d9_aae9fe7d730crow6_col1\" class=\"data row6 col1\" >head/neck</td>\n",
       "                        <td id=\"T_0ed1733c_da63_11ea_b6d9_aae9fe7d730crow6_col2\" class=\"data row6 col2\" >54</td>\n",
       "                        <td id=\"T_0ed1733c_da63_11ea_b6d9_aae9fe7d730crow6_col3\" class=\"data row6 col3\" >1013</td>\n",
       "                        <td id=\"T_0ed1733c_da63_11ea_b6d9_aae9fe7d730crow6_col4\" class=\"data row6 col4\" >0.053307</td>\n",
       "            </tr>\n",
       "            <tr>\n",
       "                        <th id=\"T_0ed1733c_da63_11ea_b6d9_aae9fe7d730clevel0_row7\" class=\"row_heading level0 row7\" >7</th>\n",
       "                        <td id=\"T_0ed1733c_da63_11ea_b6d9_aae9fe7d730crow7_col0\" class=\"data row7 col0\" >male</td>\n",
       "                        <td id=\"T_0ed1733c_da63_11ea_b6d9_aae9fe7d730crow7_col1\" class=\"data row7 col1\" >lower extremity</td>\n",
       "                        <td id=\"T_0ed1733c_da63_11ea_b6d9_aae9fe7d730crow7_col2\" class=\"data row7 col2\" >66</td>\n",
       "                        <td id=\"T_0ed1733c_da63_11ea_b6d9_aae9fe7d730crow7_col3\" class=\"data row7 col3\" >3950</td>\n",
       "                        <td id=\"T_0ed1733c_da63_11ea_b6d9_aae9fe7d730crow7_col4\" class=\"data row7 col4\" >0.0167089</td>\n",
       "            </tr>\n",
       "            <tr>\n",
       "                        <th id=\"T_0ed1733c_da63_11ea_b6d9_aae9fe7d730clevel0_row8\" class=\"row_heading level0 row8\" >8</th>\n",
       "                        <td id=\"T_0ed1733c_da63_11ea_b6d9_aae9fe7d730crow8_col0\" class=\"data row8 col0\" >male</td>\n",
       "                        <td id=\"T_0ed1733c_da63_11ea_b6d9_aae9fe7d730crow8_col1\" class=\"data row8 col1\" >oral/genital</td>\n",
       "                        <td id=\"T_0ed1733c_da63_11ea_b6d9_aae9fe7d730crow8_col2\" class=\"data row8 col2\" >1</td>\n",
       "                        <td id=\"T_0ed1733c_da63_11ea_b6d9_aae9fe7d730crow8_col3\" class=\"data row8 col3\" >79</td>\n",
       "                        <td id=\"T_0ed1733c_da63_11ea_b6d9_aae9fe7d730crow8_col4\" class=\"data row8 col4\" >0.0126582</td>\n",
       "            </tr>\n",
       "            <tr>\n",
       "                        <th id=\"T_0ed1733c_da63_11ea_b6d9_aae9fe7d730clevel0_row9\" class=\"row_heading level0 row9\" >9</th>\n",
       "                        <td id=\"T_0ed1733c_da63_11ea_b6d9_aae9fe7d730crow9_col0\" class=\"data row9 col0\" >male</td>\n",
       "                        <td id=\"T_0ed1733c_da63_11ea_b6d9_aae9fe7d730crow9_col1\" class=\"data row9 col1\" >palms/soles</td>\n",
       "                        <td id=\"T_0ed1733c_da63_11ea_b6d9_aae9fe7d730crow9_col2\" class=\"data row9 col2\" >4</td>\n",
       "                        <td id=\"T_0ed1733c_da63_11ea_b6d9_aae9fe7d730crow9_col3\" class=\"data row9 col3\" >224</td>\n",
       "                        <td id=\"T_0ed1733c_da63_11ea_b6d9_aae9fe7d730crow9_col4\" class=\"data row9 col4\" >0.0178571</td>\n",
       "            </tr>\n",
       "            <tr>\n",
       "                        <th id=\"T_0ed1733c_da63_11ea_b6d9_aae9fe7d730clevel0_row10\" class=\"row_heading level0 row10\" >10</th>\n",
       "                        <td id=\"T_0ed1733c_da63_11ea_b6d9_aae9fe7d730crow10_col0\" class=\"data row10 col0\" >male</td>\n",
       "                        <td id=\"T_0ed1733c_da63_11ea_b6d9_aae9fe7d730crow10_col1\" class=\"data row10 col1\" >torso</td>\n",
       "                        <td id=\"T_0ed1733c_da63_11ea_b6d9_aae9fe7d730crow10_col2\" class=\"data row10 col2\" >172</td>\n",
       "                        <td id=\"T_0ed1733c_da63_11ea_b6d9_aae9fe7d730crow10_col3\" class=\"data row10 col3\" >9246</td>\n",
       "                        <td id=\"T_0ed1733c_da63_11ea_b6d9_aae9fe7d730crow10_col4\" class=\"data row10 col4\" >0.0186026</td>\n",
       "            </tr>\n",
       "            <tr>\n",
       "                        <th id=\"T_0ed1733c_da63_11ea_b6d9_aae9fe7d730clevel0_row11\" class=\"row_heading level0 row11\" >11</th>\n",
       "                        <td id=\"T_0ed1733c_da63_11ea_b6d9_aae9fe7d730crow11_col0\" class=\"data row11 col0\" >male</td>\n",
       "                        <td id=\"T_0ed1733c_da63_11ea_b6d9_aae9fe7d730crow11_col1\" class=\"data row11 col1\" >upper extremity</td>\n",
       "                        <td id=\"T_0ed1733c_da63_11ea_b6d9_aae9fe7d730crow11_col2\" class=\"data row11 col2\" >61</td>\n",
       "                        <td id=\"T_0ed1733c_da63_11ea_b6d9_aae9fe7d730crow11_col3\" class=\"data row11 col3\" >2276</td>\n",
       "                        <td id=\"T_0ed1733c_da63_11ea_b6d9_aae9fe7d730crow11_col4\" class=\"data row11 col4\" >0.0268014</td>\n",
       "            </tr>\n",
       "    </tbody></table>"
      ],
      "text/plain": [
       "<pandas.io.formats.style.Styler at 0x7fe42a0ad950>"
      ]
     },
     "execution_count": 22,
     "metadata": {},
     "output_type": "execute_result"
    }
   ],
   "source": [
    "train.fillna(\"NA\").groupby(['sex','anatom_site_general_challenge'])['target'].aggregate(['sum','count','mean']).reset_index().style.background_gradient(cmap='Reds')"
   ]
  },
  {
   "cell_type": "code",
   "execution_count": null,
   "metadata": {},
   "outputs": [],
   "source": [
    "images = []\n",
    "for i, image_id in enumerate(tqdm(train['image_name'].head(10))):\n",
    "    im = Image.open(f'../Adv_Data_Science_Final_Project/siim-isic-melanoma-classification/jpeg/train/{image_id}.jpg')\n",
    "    im = im.resize((128, )*2, resample=Image.LANCZOS)\n",
    "    images.append(im)"
   ]
  },
  {
   "cell_type": "code",
   "execution_count": null,
   "metadata": {},
   "outputs": [],
   "source": [
    "images[0]"
   ]
  },
  {
   "cell_type": "code",
   "execution_count": null,
   "metadata": {},
   "outputs": [],
   "source": [
    "images[5]"
   ]
  },
  {
   "cell_type": "code",
   "execution_count": null,
   "metadata": {},
   "outputs": [],
   "source": [
    "images= train['image_name'].values\n",
    "\n",
    "#extract 9 random images\n",
    "import random\n",
    "random_images = [np.random.choice(images + '.jpg') for i in range(9)]\n",
    "\n",
    "#location of image dir \n",
    "image_dir = '../Adv_Data_Science_Final_Project/siim-isic-melanoma-classification/jpeg/train'\n",
    "\n",
    "print('Display random images')\n",
    "\n",
    "#iterate and plot images\n",
    "for i in range(9):\n",
    "    plt.subplot(3,3,i+1)\n",
    "    img = plt.imread(os.path.join(image_dir, random_images[i]))\n",
    "    plt.imshow(img, cmap='gray')\n",
    "    plt.axis('off')\n",
    "    \n",
    "# Adjust subplot parameters to give specified padding\n",
    "plt.tight_layout()   "
   ]
  },
  {
   "cell_type": "code",
   "execution_count": null,
   "metadata": {},
   "outputs": [],
   "source": [
    "benign = train[train['benign_malignant']=='benign']\n",
    "malignant = train[train['benign_malignant']=='malignant']"
   ]
  },
  {
   "cell_type": "code",
   "execution_count": null,
   "metadata": {},
   "outputs": [],
   "source": [
    "images= benign['image_name'].values\n",
    "\n",
    "#extract 9 random images\n",
    "import random\n",
    "random_images = [np.random.choice(images + '.jpg') for i in range(9)]\n",
    "\n",
    "#location of image dir \n",
    "image_dir = '../Adv_Data_Science_Final_Project/siim-isic-melanoma-classification/jpeg/train'\n",
    "\n",
    "print('Display Benign images')\n",
    "\n",
    "#iterate and plot images\n",
    "for i in range(9):\n",
    "    plt.subplot(3,3,i+1)\n",
    "    img = plt.imread(os.path.join(image_dir, random_images[i]))\n",
    "    plt.imshow(img, cmap='gray')\n",
    "    plt.axis('off')\n",
    "    \n",
    "# Adjust subplot parameters to give specified padding\n",
    "plt.tight_layout()   "
   ]
  },
  {
   "cell_type": "code",
   "execution_count": null,
   "metadata": {},
   "outputs": [],
   "source": [
    "images= malignant['image_name'].values\n",
    "\n",
    "#extract 9 random images\n",
    "import random\n",
    "random_images = [np.random.choice(images + '.jpg') for i in range(9)]\n",
    "\n",
    "#location of image dir \n",
    "image_dir = '../Adv_Data_Science_Final_Project/siim-isic-melanoma-classification/jpeg/train'\n",
    "\n",
    "print('Display Malignant images')\n",
    "\n",
    "#iterate and plot images\n",
    "for i in range(9):\n",
    "    plt.subplot(3,3,i+1)\n",
    "    img = plt.imread(os.path.join(image_dir, random_images[i]))\n",
    "    plt.imshow(img, cmap='gray')\n",
    "    plt.axis('off')\n",
    "    \n",
    "# Adjust subplot parameters to give specified padding\n",
    "plt.tight_layout() "
   ]
  },
  {
   "cell_type": "code",
   "execution_count": null,
   "metadata": {},
   "outputs": [],
   "source": [
    "x_train_32 = np.load(\"../Adv_Data_Science_Final_Project/siim-isic-melanoma-classification/x_train_32.npy\")\n",
    "x_test_32 = np.load(\"../Adv_Data_Science_Final_Project/siim-isic-melanoma-classification/x_test_32.npy\")"
   ]
  },
  {
   "cell_type": "code",
   "execution_count": null,
   "metadata": {},
   "outputs": [],
   "source": [
    "x_train_32.shape"
   ]
  },
  {
   "cell_type": "code",
   "execution_count": null,
   "metadata": {},
   "outputs": [],
   "source": [
    "x_train_32 = x_train_32.reshape((x_train_32.shape[0], 32*32*3))\n",
    "x_train_32.shape"
   ]
  },
  {
   "cell_type": "code",
   "execution_count": null,
   "metadata": {},
   "outputs": [],
   "source": [
    "x_test_32 = x_test_32.reshape((x_test_32.shape[0], 32*32*3))\n",
    "x_test_32.shape"
   ]
  },
  {
   "cell_type": "code",
   "execution_count": null,
   "metadata": {},
   "outputs": [],
   "source": [
    "y = train.target.values"
   ]
  },
  {
   "cell_type": "code",
   "execution_count": null,
   "metadata": {},
   "outputs": [],
   "source": [
    "train_oof = np.zeros((x_train_32.shape[0], ))\n",
    "test_preds = 0\n",
    "train_oof.shape"
   ]
  },
  {
   "cell_type": "code",
   "execution_count": null,
   "metadata": {},
   "outputs": [],
   "source": [
    "x_train_32"
   ]
  },
  {
   "cell_type": "markdown",
   "metadata": {},
   "source": [
    "## Logistic Regression"
   ]
  },
  {
   "cell_type": "code",
   "execution_count": null,
   "metadata": {},
   "outputs": [],
   "source": [
    "n_splits = 5\n",
    "kf = KFold(n_splits=n_splits, random_state=137, shuffle=True)\n",
    "\n",
    "for jj, (train_index, val_index) in enumerate(kf.split(x_train_32)):\n",
    "    print(\"Fitting fold\", jj+1)\n",
    "    train_features = x_train_32[train_index]\n",
    "    train_target = y[train_index]\n",
    "    \n",
    "    val_features = x_train_32[val_index]\n",
    "    val_target = y[val_index]\n",
    "    \n",
    "    model = LogisticRegression(C=1, solver='lbfgs', multi_class='multinomial', max_iter=60)\n",
    "    model.fit(train_features, train_target)\n",
    "    val_pred = model.predict_proba(val_features)[:,1]\n",
    "    train_oof[val_index] = val_pred\n",
    "    print(len(train_oof))\n",
    "    print(\"Fold AUC:\", roc_auc_score(val_target, val_pred))\n",
    "    test_preds += model.predict_proba(x_test_32)[:,1]/n_splits\n",
    "    del train_features, train_target, val_features, val_target\n",
    "    gc.collect()"
   ]
  },
  {
   "cell_type": "code",
   "execution_count": null,
   "metadata": {},
   "outputs": [],
   "source": [
    "print(roc_auc_score(y, train_oof))"
   ]
  },
  {
   "cell_type": "code",
   "execution_count": null,
   "metadata": {},
   "outputs": [],
   "source": [
    "train['age_approx'].unique()"
   ]
  },
  {
   "cell_type": "code",
   "execution_count": null,
   "metadata": {},
   "outputs": [],
   "source": [
    "train['sex'] = (train['sex'].values == 'male')*1\n",
    "test['sex'] = (test['sex'].values == 'male')*1\n",
    "train.head()"
   ]
  },
  {
   "cell_type": "code",
   "execution_count": null,
   "metadata": {},
   "outputs": [],
   "source": [
    "test.head()"
   ]
  },
  {
   "cell_type": "code",
   "execution_count": null,
   "metadata": {},
   "outputs": [],
   "source": [
    "train['sex'].mean()"
   ]
  },
  {
   "cell_type": "code",
   "execution_count": null,
   "metadata": {},
   "outputs": [],
   "source": [
    "test['sex'].mean()"
   ]
  },
  {
   "cell_type": "code",
   "execution_count": null,
   "metadata": {},
   "outputs": [],
   "source": [
    "train['age_approx'].mean()"
   ]
  },
  {
   "cell_type": "code",
   "execution_count": null,
   "metadata": {},
   "outputs": [],
   "source": [
    "test['age_approx'].mean()"
   ]
  },
  {
   "cell_type": "code",
   "execution_count": null,
   "metadata": {},
   "outputs": [],
   "source": [
    "# Filling missing values\n",
    "train['age_approx'] = train['age_approx'].fillna(train['age_approx'].mean())\n",
    "test['age_approx'] = test['age_approx'].fillna(test['age_approx'].mean())"
   ]
  },
  {
   "cell_type": "code",
   "execution_count": null,
   "metadata": {},
   "outputs": [],
   "source": [
    "x_train_32 = np.hstack([x_train_32, train['sex'].values.reshape(-1,1), train['age_approx'].values.reshape(-1,1)])\n",
    "x_test_32 = np.hstack([x_test_32, test['sex'].values.reshape(-1,1), test['age_approx'].values.reshape(-1,1)])"
   ]
  },
  {
   "cell_type": "code",
   "execution_count": null,
   "metadata": {},
   "outputs": [],
   "source": [
    "x_train_32[0].shape"
   ]
  },
  {
   "cell_type": "code",
   "execution_count": null,
   "metadata": {},
   "outputs": [],
   "source": [
    "#Cleaning data for input\n",
    "train['anatom_site_general_challenge'].unique()\n",
    "\n",
    "test['anatom_site_general_challenge'].unique()\n",
    "\n",
    "train['anatom_site_general_challenge'].mode()\n",
    "\n",
    "test['anatom_site_general_challenge'].mode()\n",
    "\n",
    "train['anatom_site_general_challenge'].fillna(train['anatom_site_general_challenge'].mode(), inplace=True)\n",
    "test['anatom_site_general_challenge'].fillna(test['anatom_site_general_challenge'].mode(), inplace=True)\n",
    "\n",
    "train['anatom_site_general_challenge'] = train['anatom_site_general_challenge'].astype(str)\n",
    "test['anatom_site_general_challenge'] = test['anatom_site_general_challenge'].astype(str)"
   ]
  },
  {
   "cell_type": "code",
   "execution_count": null,
   "metadata": {},
   "outputs": [],
   "source": [
    "#Training with Image and tabular data'\n",
    "train_oof_3 = np.zeros((x_train_32.shape[0], ))\n",
    "test_preds_3 = 0\n",
    "\n",
    "\n",
    "n_splits = 5\n",
    "kf = KFold(n_splits=n_splits, random_state=137, shuffle=True)\n",
    "\n",
    "for jj, (train_index, val_index) in enumerate(kf.split(x_train_32)):\n",
    "    print(\"Fitting fold\", jj+1)\n",
    "    train_features = x_train_32[train_index]\n",
    "    train_target = y[train_index]\n",
    "    \n",
    "    val_features = x_train_32[val_index]\n",
    "    val_target = y[val_index]\n",
    "    \n",
    "    model = LogisticRegression(C=1, solver='lbfgs', multi_class='multinomial', max_iter=60)\n",
    "    model.fit(train_features, train_target)\n",
    "    val_pred = model.predict_proba(val_features)[:,1]\n",
    "    train_oof_3[val_index] = val_pred\n",
    "    print(\"Fold AUC:\", roc_auc_score(val_target, val_pred))\n",
    "    test_preds_3 += model.predict_proba(x_test_32)[:,1]/n_splits\n",
    "    del train_features, train_target, val_features, val_target\n",
    "    gc.collect()"
   ]
  },
  {
   "cell_type": "code",
   "execution_count": null,
   "metadata": {},
   "outputs": [],
   "source": [
    "ans = pd.DataFrame(train_oof_3)"
   ]
  },
  {
   "cell_type": "code",
   "execution_count": null,
   "metadata": {},
   "outputs": [],
   "source": [
    "print(roc_auc_score(y, train_oof_3))"
   ]
  },
  {
   "cell_type": "code",
   "execution_count": null,
   "metadata": {},
   "outputs": [],
   "source": []
  }
 ],
 "metadata": {
  "kernelspec": {
   "display_name": "Python 3",
   "language": "python",
   "name": "python3"
  },
  "language_info": {
   "codemirror_mode": {
    "name": "ipython",
    "version": 3
   },
   "file_extension": ".py",
   "mimetype": "text/x-python",
   "name": "python",
   "nbconvert_exporter": "python",
   "pygments_lexer": "ipython3",
   "version": "3.7.4"
  }
 },
 "nbformat": 4,
 "nbformat_minor": 4
}
